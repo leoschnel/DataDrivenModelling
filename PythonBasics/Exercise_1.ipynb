{
  "cells": [
    {
      "cell_type": "markdown",
      "metadata": {
        "id": "fBm0PqJ6V4Qn"
      },
      "source": [
        "Import numpy, a python toolbox for numerical computations, and give it a abbreviation.\n",
        "\n"
      ]
    },
    {
      "cell_type": "code",
      "execution_count": 1,
      "metadata": {
        "id": "H1xWZ8j3UBHR"
      },
      "outputs": [],
      "source": [
        "import numpy as np "
      ]
    },
    {
      "cell_type": "markdown",
      "metadata": {
        "id": "aUU_8Y5NWi_w"
      },
      "source": [
        "Create some arrays, which represent our tensors."
      ]
    },
    {
      "cell_type": "code",
      "execution_count": 2,
      "metadata": {
        "colab": {
          "base_uri": "https://localhost:8080/"
        },
        "id": "9nm2K5L7VF-5",
        "outputId": "c9691a46-4229-45c8-d06a-29f7947fd3b6"
      },
      "outputs": [
        {
          "data": {
            "text/plain": [
              "array([1, 2, 3])"
            ]
          },
          "execution_count": 2,
          "metadata": {},
          "output_type": "execute_result"
        }
      ],
      "source": [
        "a = np.array([1, 2, 3])\n",
        "a"
      ]
    },
    {
      "cell_type": "code",
      "execution_count": 3,
      "metadata": {
        "colab": {
          "base_uri": "https://localhost:8080/"
        },
        "id": "E4e7-wJpWiGY",
        "outputId": "620a06a4-154f-4343-90be-4aa1dbc434d1"
      },
      "outputs": [
        {
          "data": {
            "text/plain": [
              "array([1, 0, 0])"
            ]
          },
          "execution_count": 3,
          "metadata": {},
          "output_type": "execute_result"
        }
      ],
      "source": [
        "e_1 = np.array([1, 0, 0])\n",
        "e_1"
      ]
    },
    {
      "cell_type": "code",
      "execution_count": 4,
      "metadata": {
        "colab": {
          "base_uri": "https://localhost:8080/"
        },
        "id": "QwJi5d_darSc",
        "outputId": "3f4e0251-ca19-4c1a-da67-563179d0476f"
      },
      "outputs": [
        {
          "data": {
            "text/plain": [
              "array([0, 1, 0])"
            ]
          },
          "execution_count": 4,
          "metadata": {},
          "output_type": "execute_result"
        }
      ],
      "source": [
        "e_2 = np.array([0, 1, 0])\n",
        "e_2"
      ]
    },
    {
      "cell_type": "markdown",
      "metadata": {
        "id": "Pl1QP6a7W_cu"
      },
      "source": [
        "Matrix multiplication via the @ operator or explicitly.\n",
        "\n"
      ]
    },
    {
      "cell_type": "code",
      "execution_count": 5,
      "metadata": {
        "colab": {
          "base_uri": "https://localhost:8080/"
        },
        "id": "xQdyCi9MXG2b",
        "outputId": "23b4e490-a9f5-4f43-ad5c-06ac0911fbf1"
      },
      "outputs": [
        {
          "data": {
            "text/plain": [
              "1"
            ]
          },
          "execution_count": 5,
          "metadata": {},
          "output_type": "execute_result"
        }
      ],
      "source": [
        "a @ e_1"
      ]
    },
    {
      "cell_type": "code",
      "execution_count": 6,
      "metadata": {
        "colab": {
          "base_uri": "https://localhost:8080/"
        },
        "id": "cOywl-7-ZhTv",
        "outputId": "bda80e73-993d-4ea9-b985-0a2d33b940c3"
      },
      "outputs": [
        {
          "data": {
            "text/plain": [
              "1"
            ]
          },
          "execution_count": 6,
          "metadata": {},
          "output_type": "execute_result"
        }
      ],
      "source": [
        "np.matmul(a, e_1)"
      ]
    },
    {
      "cell_type": "markdown",
      "metadata": {
        "id": "PdK9SkEGXEr4"
      },
      "source": [
        "Create higher dimensional arrays, which represent higher order tensors."
      ]
    },
    {
      "cell_type": "code",
      "execution_count": 7,
      "metadata": {
        "colab": {
          "base_uri": "https://localhost:8080/"
        },
        "id": "62GMnFKHmrNP",
        "outputId": "21415197-bb56-4ce0-cefe-99746f7579b8"
      },
      "outputs": [
        {
          "data": {
            "text/plain": [
              "array([[1, 2, 3],\n",
              "       [2, 5, 6],\n",
              "       [3, 6, 9]])"
            ]
          },
          "execution_count": 7,
          "metadata": {},
          "output_type": "execute_result"
        }
      ],
      "source": [
        "A = np.array([[1, 2, 3], [2, 5, 6], [3, 6, 9]])\n",
        "A"
      ]
    },
    {
      "cell_type": "code",
      "execution_count": 8,
      "metadata": {
        "colab": {
          "base_uri": "https://localhost:8080/"
        },
        "id": "NMbKhGsfbM_o",
        "outputId": "1a55b483-83ea-4d03-906c-85d611160269"
      },
      "outputs": [
        {
          "data": {
            "text/plain": [
              "2"
            ]
          },
          "execution_count": 8,
          "metadata": {},
          "output_type": "execute_result"
        }
      ],
      "source": [
        "e_1 @ A @ e_2"
      ]
    },
    {
      "cell_type": "markdown",
      "metadata": {
        "id": "D7faDwYFXHZl"
      },
      "source": [
        "Transpose via .T or as a function."
      ]
    },
    {
      "cell_type": "code",
      "execution_count": 9,
      "metadata": {
        "colab": {
          "base_uri": "https://localhost:8080/"
        },
        "id": "MBY3NPhFdVzx",
        "outputId": "4aa71532-a57f-4c77-c174-e4ef71197c7a"
      },
      "outputs": [
        {
          "data": {
            "text/plain": [
              "array([[1, 2, 3],\n",
              "       [2, 5, 6],\n",
              "       [3, 6, 9]])"
            ]
          },
          "execution_count": 9,
          "metadata": {},
          "output_type": "execute_result"
        }
      ],
      "source": [
        "A.T"
      ]
    },
    {
      "cell_type": "code",
      "execution_count": 10,
      "metadata": {
        "colab": {
          "base_uri": "https://localhost:8080/"
        },
        "id": "uPqY5eCHVPAM",
        "outputId": "324ec642-fcdb-44ef-b13c-79ead739ead6"
      },
      "outputs": [
        {
          "data": {
            "text/plain": [
              "array([[1, 2, 3],\n",
              "       [2, 5, 6],\n",
              "       [3, 6, 9]])"
            ]
          },
          "execution_count": 10,
          "metadata": {},
          "output_type": "execute_result"
        }
      ],
      "source": [
        "np.transpose(A)"
      ]
    },
    {
      "cell_type": "code",
      "execution_count": 11,
      "metadata": {
        "colab": {
          "base_uri": "https://localhost:8080/"
        },
        "id": "5SM8zeHQeVje",
        "outputId": "ca5eeeda-5a0d-4d9c-c060-8c1ba4a714ab"
      },
      "outputs": [
        {
          "data": {
            "text/plain": [
              "array([[ 2,  3,  4],\n",
              "       [ 3,  6,  7],\n",
              "       [ 4,  7, 10]])"
            ]
          },
          "execution_count": 11,
          "metadata": {},
          "output_type": "execute_result"
        }
      ],
      "source": [
        "B = A + 1\n",
        "B"
      ]
    },
    {
      "cell_type": "markdown",
      "metadata": {
        "id": "0y20jYQ9XNQj"
      },
      "source": [
        "Einsum lets you do quick tensor index calculation. Just enter the input indices and the desired output indices."
      ]
    },
    {
      "cell_type": "code",
      "execution_count": 12,
      "metadata": {
        "colab": {
          "base_uri": "https://localhost:8080/"
        },
        "id": "9zs0lj_OeE-n",
        "outputId": "831a9023-1ae2-4c52-8bfe-348aa4a59f07"
      },
      "outputs": [
        {
          "data": {
            "text/plain": [
              "array([[ 20,  43,  60],\n",
              "       [ 36,  78, 108],\n",
              "       [ 48, 103, 144]])"
            ]
          },
          "execution_count": 12,
          "metadata": {},
          "output_type": "execute_result"
        }
      ],
      "source": [
        "np.einsum(\"ik,kl->li\", A, B)"
      ]
    },
    {
      "cell_type": "code",
      "execution_count": 13,
      "metadata": {
        "colab": {
          "base_uri": "https://localhost:8080/"
        },
        "id": "qyKv6wRUfpan",
        "outputId": "4fb08260-ba13-47be-8754-b25c57f8f806"
      },
      "outputs": [
        {
          "data": {
            "text/plain": [
              "array([[ 20,  43,  60],\n",
              "       [ 36,  78, 108],\n",
              "       [ 48, 103, 144]])"
            ]
          },
          "execution_count": 13,
          "metadata": {},
          "output_type": "execute_result"
        }
      ],
      "source": [
        "(A @ B).T"
      ]
    },
    {
      "cell_type": "code",
      "execution_count": 14,
      "metadata": {
        "colab": {
          "base_uri": "https://localhost:8080/"
        },
        "id": "swgldMEXfv4g",
        "outputId": "a71fc784-6e6e-4446-947f-811a527e0417"
      },
      "outputs": [
        {
          "data": {
            "text/plain": [
              "array([[ 20,  43,  60],\n",
              "       [ 36,  78, 108],\n",
              "       [ 48, 103, 144]])"
            ]
          },
          "execution_count": 14,
          "metadata": {},
          "output_type": "execute_result"
        }
      ],
      "source": [
        "B.T @ A.T"
      ]
    },
    {
      "cell_type": "code",
      "execution_count": 15,
      "metadata": {
        "colab": {
          "base_uri": "https://localhost:8080/"
        },
        "id": "k0B0kyD5iUJK",
        "outputId": "9b9856cf-d90f-4069-af36-7827faa48535"
      },
      "outputs": [
        {
          "data": {
            "text/plain": [
              "array([[ 20,  43,  60],\n",
              "       [ 36,  78, 108],\n",
              "       [ 48, 103, 144]])"
            ]
          },
          "execution_count": 15,
          "metadata": {},
          "output_type": "execute_result"
        }
      ],
      "source": [
        "np.einsum(\"ij,jl->li\", A, B)"
      ]
    },
    {
      "cell_type": "code",
      "execution_count": 16,
      "metadata": {
        "colab": {
          "base_uri": "https://localhost:8080/"
        },
        "id": "fQ9JSt5tj_ga",
        "outputId": "bb9122c5-958a-4357-c5ef-933e331ecd5b"
      },
      "outputs": [
        {
          "data": {
            "text/plain": [
              "242"
            ]
          },
          "execution_count": 16,
          "metadata": {},
          "output_type": "execute_result"
        }
      ],
      "source": [
        "np.einsum(\"ij,ij->\", A, B)"
      ]
    },
    {
      "cell_type": "code",
      "execution_count": 17,
      "metadata": {
        "colab": {
          "base_uri": "https://localhost:8080/"
        },
        "id": "huZW_bnclh4D",
        "outputId": "acc1f112-01ef-48f4-f4a6-18087e859732"
      },
      "outputs": [
        {
          "data": {
            "text/plain": [
              "array([[0., 0., 0.],\n",
              "       [0., 0., 0.],\n",
              "       [0., 0., 0.]])"
            ]
          },
          "execution_count": 17,
          "metadata": {},
          "output_type": "execute_result"
        }
      ],
      "source": [
        "B_anti = (1/2) * (B - B.T)\n",
        "B_anti"
      ]
    },
    {
      "cell_type": "code",
      "execution_count": 18,
      "metadata": {
        "colab": {
          "base_uri": "https://localhost:8080/"
        },
        "id": "eN4_sjplk4JC",
        "outputId": "91408770-484b-4636-d38d-0a957d9abf97"
      },
      "outputs": [
        {
          "data": {
            "text/plain": [
              "array([[ 2.,  3.,  4.],\n",
              "       [ 3.,  6.,  7.],\n",
              "       [ 4.,  7., 10.]])"
            ]
          },
          "execution_count": 18,
          "metadata": {},
          "output_type": "execute_result"
        }
      ],
      "source": [
        "B_sym = (1/2) * (B + B.T)\n",
        "B_sym"
      ]
    },
    {
      "cell_type": "code",
      "execution_count": 19,
      "metadata": {
        "colab": {
          "base_uri": "https://localhost:8080/"
        },
        "id": "MHW7D0BalppZ",
        "outputId": "81116e58-4f3f-4a26-f695-18855afb8396"
      },
      "outputs": [
        {
          "data": {
            "text/plain": [
              "array([[ 2.,  3.,  4.],\n",
              "       [ 3.,  6.,  7.],\n",
              "       [ 4.,  7., 10.]])"
            ]
          },
          "execution_count": 19,
          "metadata": {},
          "output_type": "execute_result"
        }
      ],
      "source": [
        "B_sym + B_anti"
      ]
    },
    {
      "cell_type": "code",
      "execution_count": 20,
      "metadata": {
        "colab": {
          "base_uri": "https://localhost:8080/"
        },
        "id": "IPogUCE5nBA1",
        "outputId": "021f789a-dc64-4176-ae27-57012aedc416"
      },
      "outputs": [
        {
          "data": {
            "text/plain": [
              "array([[ True,  True,  True],\n",
              "       [ True,  True,  True],\n",
              "       [ True,  True,  True]])"
            ]
          },
          "execution_count": 20,
          "metadata": {},
          "output_type": "execute_result"
        }
      ],
      "source": [
        "np.equal(A, A.T)"
      ]
    },
    {
      "cell_type": "code",
      "execution_count": 21,
      "metadata": {
        "colab": {
          "base_uri": "https://localhost:8080/"
        },
        "id": "KGGx1nxEkyzV",
        "outputId": "246bf7b4-cd1a-44da-8032-658cd8807a66"
      },
      "outputs": [
        {
          "name": "stdout",
          "output_type": "stream",
          "text": [
            "[[0.82419442 0.53459131 0.29075157]\n",
            " [0.9115608  0.12610662 0.18332464]\n",
            " [0.35347256 0.84452561 0.92768277]]\n"
          ]
        }
      ],
      "source": [
        "A = np.random.uniform(size=[3, 3])\n",
        "print(A)"
      ]
    },
    {
      "cell_type": "code",
      "execution_count": 22,
      "metadata": {
        "colab": {
          "base_uri": "https://localhost:8080/"
        },
        "id": "Z7MoaOSfk8SU",
        "outputId": "235615f4-9b29-4932-ab5c-07f94eaf29ed"
      },
      "outputs": [
        {
          "name": "stdout",
          "output_type": "stream",
          "text": [
            "[[0. 0. 0.]\n",
            " [0. 0. 0.]\n",
            " [0. 0. 0.]]\n"
          ]
        }
      ],
      "source": [
        "DIM = 3\n",
        "B = np.zeros_like(A)\n",
        "print(B)"
      ]
    },
    {
      "cell_type": "code",
      "execution_count": 23,
      "metadata": {
        "colab": {
          "base_uri": "https://localhost:8080/"
        },
        "id": "AvtDLTuVlB0U",
        "outputId": "90e62ba7-6b5b-4ac2-ab2e-63b458713bc9"
      },
      "outputs": [
        {
          "name": "stdout",
          "output_type": "stream",
          "text": [
            "[[0.82419442 0.53459131 0.29075157]\n",
            " [0.9115608  0.12610662 0.18332464]\n",
            " [0.35347256 0.84452561 0.92768277]]\n"
          ]
        }
      ],
      "source": [
        "for i in range(DIM):\n",
        "    for j in range(DIM):\n",
        "        e_i = np.zeros([3,])\n",
        "        e_j = np.zeros([3,])\n",
        "\n",
        "        e_i[i] = 1\n",
        "        e_j[j] = 1\n",
        "\n",
        "        B[i, j] = np.dot(np.dot(e_i, A), e_j)\n",
        "\n",
        "print(B)"
      ]
    },
    {
      "cell_type": "code",
      "execution_count": 24,
      "metadata": {
        "colab": {
          "base_uri": "https://localhost:8080/"
        },
        "id": "GXl1HGCTlbbu",
        "outputId": "dee457fc-67ab-4281-ccca-bb6bdb8796a5"
      },
      "outputs": [
        {
          "name": "stdout",
          "output_type": "stream",
          "text": [
            "[[ True  True  True]\n",
            " [ True  True  True]\n",
            " [ True  True  True]]\n"
          ]
        }
      ],
      "source": [
        "print(np.isclose(A, B))"
      ]
    },
    {
      "cell_type": "code",
      "execution_count": 25,
      "metadata": {
        "colab": {
          "base_uri": "https://localhost:8080/"
        },
        "id": "V89hmaZEmYEP",
        "outputId": "685b7962-0316-4140-81eb-98e78d5d682e"
      },
      "outputs": [
        {
          "name": "stdout",
          "output_type": "stream",
          "text": [
            "[0.26161667 0.08774817 0.36672604]\n"
          ]
        }
      ],
      "source": [
        "a = np.random.uniform(size=[3,])\n",
        "print(a)"
      ]
    },
    {
      "cell_type": "code",
      "execution_count": 26,
      "metadata": {
        "colab": {
          "base_uri": "https://localhost:8080/"
        },
        "id": "lqrX5-OSmhIX",
        "outputId": "e6820660-416e-4f47-fb9e-032de034aa15"
      },
      "outputs": [
        {
          "name": "stdout",
          "output_type": "stream",
          "text": [
            "[1 0 0]\n"
          ]
        }
      ],
      "source": [
        "e_1 = np.array([1, 0, 0])\n",
        "print(e_1)"
      ]
    },
    {
      "cell_type": "code",
      "execution_count": 27,
      "metadata": {
        "colab": {
          "base_uri": "https://localhost:8080/"
        },
        "id": "735t-XyEmKeI",
        "outputId": "a955a831-f4e5-4042-e069-e216645b63ec"
      },
      "outputs": [
        {
          "name": "stdout",
          "output_type": "stream",
          "text": [
            "[0.26161667 0.         0.        ]\n"
          ]
        }
      ],
      "source": [
        "a_i = np.einsum('i,i -> i', a, e_1)\n",
        "print(a_i)"
      ]
    }
  ],
  "metadata": {
    "colab": {
      "collapsed_sections": [],
      "provenance": []
    },
    "kernelspec": {
      "display_name": "Python 3.9.13 ('DDM')",
      "language": "python",
      "name": "python3"
    },
    "language_info": {
      "codemirror_mode": {
        "name": "ipython",
        "version": 3
      },
      "file_extension": ".py",
      "mimetype": "text/x-python",
      "name": "python",
      "nbconvert_exporter": "python",
      "pygments_lexer": "ipython3",
      "version": "3.9.13"
    },
    "vscode": {
      "interpreter": {
        "hash": "ab410ef1f594e8f736bc2417818d0c4c6ecbf4332d2eb5355b5a5d0450906b45"
      }
    }
  },
  "nbformat": 4,
  "nbformat_minor": 0
}
